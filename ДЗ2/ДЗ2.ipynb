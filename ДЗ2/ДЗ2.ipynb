{
 "cells": [
  {
   "cell_type": "markdown",
   "id": "a5c8eeaf-027b-469c-a7d4-8351079d5df6",
   "metadata": {},
   "source": [
    "### ЗАДАНИЕ 1\n",
    "\n",
    "Печатные газеты использовали свой формат дат для каждого выпуска. Для каждой газеты из списка напишите формат указанной даты для перевода в объект datetime:\n",
    " - The Moscow Times - Wednesday, October 2, 2002\n",
    " - The Guardian - Friday, 11.10.13\n",
    " - Daily News - Thursday, 18 August 1977"
   ]
  },
  {
   "cell_type": "code",
   "execution_count": null,
   "id": "e0cf7748-ab76-4e92-8b7f-d4f076b8af7b",
   "metadata": {},
   "outputs": [],
   "source": [
    "import datetime as dt\n",
    "\n",
    "date1 = 'Wednesday, October 2, 2002'\n",
    "date2 = 'Friday, 11.10.13'\n",
    "date3 = 'Thursday, 18 August 1977'"
   ]
  },
  {
   "cell_type": "code",
   "execution_count": 22,
   "id": "781487d9-ea00-4ffb-a95f-df8eeb5e1efd",
   "metadata": {},
   "outputs": [
    {
     "data": {
      "text/plain": [
       "datetime.datetime(2002, 10, 2, 0, 0)"
      ]
     },
     "execution_count": 22,
     "metadata": {},
     "output_type": "execute_result"
    }
   ],
   "source": [
    "dt.datetime.strptime(date1, '%A, %B %d, %Y') # Формат для первой даты"
   ]
  },
  {
   "cell_type": "code",
   "execution_count": 25,
   "id": "96b06fab-e15c-405e-89a5-f6b2b8a6fa26",
   "metadata": {},
   "outputs": [
    {
     "data": {
      "text/plain": [
       "datetime.datetime(2013, 10, 11, 0, 0)"
      ]
     },
     "execution_count": 25,
     "metadata": {},
     "output_type": "execute_result"
    }
   ],
   "source": [
    "dt.datetime.strptime(date2, '%A, %d.%m.%y') # Формат для второй даты"
   ]
  },
  {
   "cell_type": "code",
   "execution_count": 26,
   "id": "9360e02a-8ff8-4fa7-a607-5589f95efeff",
   "metadata": {},
   "outputs": [
    {
     "data": {
      "text/plain": [
       "datetime.datetime(1977, 8, 18, 0, 0)"
      ]
     },
     "execution_count": 26,
     "metadata": {},
     "output_type": "execute_result"
    }
   ],
   "source": [
    "dt.datetime.strptime(date3, '%A, %d %B %Y') # Формат для третьей даты"
   ]
  },
  {
   "cell_type": "markdown",
   "id": "80227c9b-f4c5-4cd7-9089-69a2e40cd293",
   "metadata": {},
   "source": [
    "### ЗАДАНИЕ 2\n",
    "\n",
    "Напишите функцию date_range, которая возвращает список дат за период от start_date до end_date. Даты должны вводиться в формате YYYY-MM-DD. В случае неверного формата или при start_date > end_date должен возвращаться пустой список.\n"
   ]
  },
  {
   "cell_type": "code",
   "execution_count": 40,
   "id": "a8a1c033-86fe-41d0-ad89-755d774da01e",
   "metadata": {},
   "outputs": [
    {
     "name": "stdin",
     "output_type": "stream",
     "text": [
      " asda\n",
      " asda\n"
     ]
    },
    {
     "data": {
      "text/plain": [
       "[]"
      ]
     },
     "execution_count": 40,
     "metadata": {},
     "output_type": "execute_result"
    }
   ],
   "source": [
    "# задаются пользователем даты в виде строки в формате YYYY-MM-DD\n",
    "\n",
    "start = str(input())\n",
    "end = str(input())\n",
    "\n",
    "def date_range(st, ed): # создаётся функция date_range, где аргументами будут строки\n",
    "    a = [] # создаётся массив, в который будут добавлены даты\n",
    "    try: # система проверяет, правильный ли формат у введённых дат. Если неверный, тогда возвращает пустой массив. Если верный, переводит их в другой тип данных\n",
    "        start_date = dt.datetime.strptime(st, '%Y-%m-%d')\n",
    "        end_date = dt.datetime.strptime(ed, '%Y-%m-%d')\n",
    "    except:\n",
    "        return a\n",
    "    current_date = start_date\n",
    "    while current_date <= end_date: # создаётся цикл для добавления в массив дат в промежутке от начальной до конечной даты\n",
    "        a.append(current_date.strftime('%Y-%m-%d'))\n",
    "        current_date += dt.timedelta(days=1)\n",
    "    return a\n",
    "\n",
    "date_range(start, end) # запуск функции для проверки работы"
   ]
  }
 ],
 "metadata": {
  "kernelspec": {
   "display_name": "Python 3 (ipykernel)",
   "language": "python",
   "name": "python3"
  },
  "language_info": {
   "codemirror_mode": {
    "name": "ipython",
    "version": 3
   },
   "file_extension": ".py",
   "mimetype": "text/x-python",
   "name": "python",
   "nbconvert_exporter": "python",
   "pygments_lexer": "ipython3",
   "version": "3.13.5"
  }
 },
 "nbformat": 4,
 "nbformat_minor": 5
}
