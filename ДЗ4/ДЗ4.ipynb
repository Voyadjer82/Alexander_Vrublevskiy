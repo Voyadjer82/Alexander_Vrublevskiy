{
 "cells": [
  {
   "cell_type": "markdown",
   "id": "642cae0e-76a8-4ca2-b7ea-874b12d79bcf",
   "metadata": {},
   "source": [
    "### Задание 1\n",
    "Напишите функцию, которая принимает на вход строку и проверяет, является ли она валидным транспортным номером (1 буква, 3 цифры, 2 буквы, 2–3 цифры). Обратите внимание, что не все буквы кириллического алфавита используются в транспортных номерах.\n",
    "\n",
    "Если номер валиден, то функция должна возвращать отдельно номер и регион.\n",
    "\n",
    "Примеры работы программы:\n",
    "\n",
    " - car_id = 'А222BС96'\n",
    "\n",
    "Результат: Номер А222BС валиден. Регион: 96.\n",
    "\n",
    " - car_id = 'АБ22ВВ193'\n",
    "\n",
    "Результат: Номер не валиден."
   ]
  },
  {
   "cell_type": "code",
   "execution_count": 48,
   "id": "3ce52946-92c1-4cd8-9bdc-724b073c9593",
   "metadata": {},
   "outputs": [
    {
     "name": "stdout",
     "output_type": "stream",
     "text": [
      "Результат: Номер А222ВС валиден. Регион: 96\n",
      "Номер не валиден\n"
     ]
    }
   ],
   "source": [
    "import re\n",
    "\n",
    "# А, В, Е, К, М, Н, О, Р, С, Т, X и У - разрешённые буквы на номерах РФ\n",
    "\n",
    "def true_car_id(usr_car_id):\n",
    "    pattern = r'([АВЕКМНОРСТХУ]{1})(\\d{3})([АВЕКМНОРСТХУ]{2})(\\d{3}|\\d{2})'\n",
    "    match = re.fullmatch(pattern, usr_car_id)\n",
    "    if match:\n",
    "        letter1, digits, letters, region = match.groups()\n",
    "        return (f'Результат: Номер {letter1}{digits}{letters} валиден. Регион: {region}')\n",
    "    else:\n",
    "        return 'Номер не валиден'\n",
    "\n",
    "print(true_car_id('А222ВС96'))\n",
    "print(true_car_id('АБ22ВВ193'))\n",
    "\n",
    "# А, В, Е, К, М, Н, О, Р, С, Т, X и У"
   ]
  },
  {
   "cell_type": "markdown",
   "id": "be48998e-3c03-45fa-9ade-555fd3ff9741",
   "metadata": {},
   "source": [
    "### Задание 2\n",
    "\n",
    "Напишите функцию, которая будет удалять все последовательные повторы слов из заданной строки при помощи регулярных выражений.\n",
    "\n",
    "Пример работы программы:\n",
    "some_string = 'Напишите функцию функцию, которая будет будет будет будет удалять все все все все последовательные повторы слов из из из из заданной строки строки при помощи регулярных выражений'\n",
    "\n",
    "Результат: Напишите функцию, которая будет удалять все последовательные повторы слов из заданной строки при помощи регулярных выражений.\n"
   ]
  },
  {
   "cell_type": "code",
   "execution_count": null,
   "id": "b0a0d179-3449-43d9-96d7-59558623144d",
   "metadata": {},
   "outputs": [],
   "source": []
  }
 ],
 "metadata": {
  "kernelspec": {
   "display_name": "Python 3 (ipykernel)",
   "language": "python",
   "name": "python3"
  },
  "language_info": {
   "codemirror_mode": {
    "name": "ipython",
    "version": 3
   },
   "file_extension": ".py",
   "mimetype": "text/x-python",
   "name": "python",
   "nbconvert_exporter": "python",
   "pygments_lexer": "ipython3",
   "version": "3.13.5"
  }
 },
 "nbformat": 4,
 "nbformat_minor": 5
}
