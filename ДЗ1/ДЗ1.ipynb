{
 "cells": [
  {
   "cell_type": "markdown",
   "id": "1a6a5f44-0ff6-4543-97b8-3b2b3e6145e3",
   "metadata": {},
   "source": [
    "### ЗАДАНИЕ 1\n",
    "\n",
    "Переведите содержимое файла purchase_log.txt в словарь purchases вида:\n",
    "{'1840e0b9d4': 'Продукты', ...}"
   ]
  },
  {
   "cell_type": "code",
   "execution_count": 26,
   "id": "962f80c9-7a17-4371-902d-b83c084a1202",
   "metadata": {},
   "outputs": [
    {
     "name": "stdout",
     "output_type": "stream",
     "text": [
      "[('1840e0b9d4', 'Продукты'), ('4e4f90fcfb', 'Электроника')]\n"
     ]
    }
   ],
   "source": [
    "import json\n",
    "\n",
    "purchases = {} # Создание словаря\n",
    "\n",
    "with open(file = 'purchase_log.txt', mode = 'r') as file: # чтение файла purchase_log.txt\n",
    "    for line in file:\n",
    "        record = json.loads(line) # Перевод строки в словарь\n",
    "        purchases[record['user_id']] = record['category'] # Запись в словарь purchases\n",
    "\n",
    "purchases.pop('user_id') # Удаление первой строки ('user_id', 'category')\n",
    "print(list(purchases.items())[:2]) # Вывод первых двух элементов словаря purchases"
   ]
  },
  {
   "cell_type": "markdown",
   "id": "652cfbf6-b510-4fb7-afa3-a7a98ea75c17",
   "metadata": {},
   "source": [
    "### ЗАДАНИЕ 2\n",
    "\n",
    "Для каждого user_id в файле visit_log.csv определите третий столбец с категорией покупки. Если покупка была, сам файл visit_log.csv изменять не надо.\n",
    "Запишите в файл funnel.csv визиты из файла visit_log.csv, в которых были покупки с указанием категории.\n",
    "Учтите условия для данных:\n",
    "\n",
    " - содержимое purchase_log.txt помещается в оперативную память компьютера;\n",
    " - содержимое visit_log.csv — нет, используйте только построчную обработку этого файла.\n"
   ]
  },
  {
   "cell_type": "code",
   "execution_count": 59,
   "id": "e48ed678-da0f-4962-808c-7f401879e553",
   "metadata": {},
   "outputs": [],
   "source": [
    "import csv\n",
    "\n",
    "# Уже проанализированный файл purchase_log.txt содержится в словаре под названием purchases, анализ представлен в ответе на первое задание\n",
    "\n",
    "with open(file = 'funnel.csv', mode = 'w', encoding = 'utf-8') as funnel: # запуск файл (или создаю), в который будут добавляться строки по условию\n",
    "    writer = csv.writer(funnel)\n",
    "    writer.writerow(['user_id', 'source', 'category']) # задаются заголовки\n",
    "    with open(file = 'visit_log (2).csv', mode = 'r', encoding = 'utf-8') as csvfile: # запуск файл visit_log (2) в режиме чтения\n",
    "        csvfile = csv.reader(csvfile, delimiter = ',', quotechar = ' ')\n",
    "        for row in csvfile: # построчный анализ файла\n",
    "            if row[0] in purchases:\n",
    "                writer.writerow([row[0], row[1], purchases[row[0]]]) # запись результатов в файл funnel.csv в виде user_id, source, category"
   ]
  },
  {
   "cell_type": "markdown",
   "id": "58ef1233-febd-487d-9209-98c463f2bf18",
   "metadata": {},
   "source": [
    "#### Вывод первых трёх строк файла funnel.csv:"
   ]
  },
  {
   "cell_type": "code",
   "execution_count": 56,
   "id": "b1ac082d-afbc-43ad-8440-792c351abc16",
   "metadata": {},
   "outputs": [
    {
     "name": "stdout",
     "output_type": "stream",
     "text": [
      "user_id,source,category\n",
      "\n",
      "1840e0b9d4,other,Продукты\n",
      "\n",
      "4e4f90fcfb,context,Электроника\n",
      "\n"
     ]
    }
   ],
   "source": [
    "with open(file = 'funnel.csv', mode = 'r', encoding = 'utf-8') as funnel:\n",
    "    print(funnel.readline())\n",
    "    print(funnel.readline())\n",
    "    print(funnel.readline())"
   ]
  }
 ],
 "metadata": {
  "kernelspec": {
   "display_name": "Python 3 (ipykernel)",
   "language": "python",
   "name": "python3"
  },
  "language_info": {
   "codemirror_mode": {
    "name": "ipython",
    "version": 3
   },
   "file_extension": ".py",
   "mimetype": "text/x-python",
   "name": "python",
   "nbconvert_exporter": "python",
   "pygments_lexer": "ipython3",
   "version": "3.13.5"
  }
 },
 "nbformat": 4,
 "nbformat_minor": 5
}
